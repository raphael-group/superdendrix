{
 "cells": [
  {
   "cell_type": "code",
   "execution_count": 1,
   "metadata": {},
   "outputs": [
    {
     "output_type": "execute_result",
     "data": {
      "text/plain": "'\\nwith open(args.sample_file, \\'r\\') as IN:\\n    arrs = [ l.rstrip(\\'\\n\\').split(\\'\\t\\') for l in IN if not l.startswith(\\'#\\') ]\\n    samples = [ arr[1] for arr in arrs ]\\n    indices = [ int(arr[0]) for arr in arrs ]\\n    sample_index = dict(zip(samples, indices))\\n    sample_set = set(samples)\\n\\nwith open(args.gene_file, \\'r\\') as IN:\\n    arrs = [ l.rstrip(\\'\\n\\').split(\\'\\t\\') for l in IN if not l.startswith(\\'#\\') ]\\n    genes = [ arr[1] for arr in arrs ]\\n    indices = [ int(arr[0]) for arr in arrs ]\\n    gene_index = dict(zip(genes, indices))\\n    gene_set = set(genes)\\n\\nprint(\\'- Loaded list of %s samples and %s genes\\' % (len(samples), len(genes)))\\nprint(\"123\")\\n'"
     },
     "metadata": {},
     "execution_count": 1
    }
   ],
   "source": [
    "#!/usr/bin/env python\n",
    "\n",
    "# Load required modules and set constants\n",
    "import sys\n",
    "import os\n",
    "import argparse, pandas as pd\n",
    "import numpy as np\n",
    "\n",
    "GENE = 'Hugo_Symbol'\n",
    "SAMPLE = 'Tumor_Sample_Barcode'\n",
    "VAR_TY = 'Variant_Type'\n",
    "VAR_CLASS = 'Variant_Classification'\n",
    "#PROTEIN_POS = 'Protein_position'\n",
    "#AMINO_ACIDS = 'Amino_acids'\n",
    "VAR_AA = 'Variant_amino_acid'\n",
    "PROTEIN_CHANGE = 'Protein_Change'\n",
    "AA_CHANGE = 'AA_Change'\n",
    "VAR_AN = 'Variant_annotation'\n",
    "VAR_AN2 = 'Variant annotation'\n",
    "\n",
    "#DepMap_ID\n",
    "\n",
    "#Usecols do not match columns, columns expected but not found: ['Variant_Type', 'Tumor_Sample_Barcode', 'Hugo_Symbol', 'Variant_Classification', 'Amino_acids', 'Protein_position', 'HGVSp_Short']\n",
    "\n",
    "maf_col_dtype = {\n",
    "    GENE: str,\n",
    "    VAR_CLASS: str,\n",
    "    VAR_TY: str,\n",
    "    SAMPLE: str,\n",
    "    PROTEIN_CHANGE: str\n",
    "    #PROTEIN_POS: str,\n",
    "    #AMINO_ACIDS: str,\n",
    "}\n",
    "\n",
    "ACTIVATING_CLASSES = { 'Missense_Mutation' }\n",
    "#INACTIVATING_CLASSES = {'Nonsense_Mutation', 'Nonstop_Mutation',\n",
    "                        #'Frame_Shift_Del', 'Frame_Shift_Ins',\n",
    "                        #'Translation_Start_Site'}\n",
    "INACTIVATING_CLASSES = {\"Nonsense_Mutation\", \"Nonstop_Mutation\", \"Frame_Shift_Del\",\n",
    "                        \"Frame_Shift_Ins\", \"Start_Codon_Del\", \"Stop_Codon_Del\",\n",
    "                        \"Start_Codon_Ins\", \"Stop_Codon_Ins\", \"De_novo_Start_OutOfFrame\", \"Splice_Site\"}\n",
    "\n",
    "# Parse command-line arguments\n",
    "#parser = argparse.ArgumentParser()\n",
    "#parser.add_argument('-okf', '--oncoKB_file', type=str, required=True)\n",
    "#parser.add_argument('-mf', '--maf_file', type=str, required=True)\n",
    "#parser.add_argument('-sf', '--sample_file', type=str, required=True)\n",
    "#parser.add_argument('-gf', '--gene_file', type=str, required=True)\n",
    "#parser.add_argument('-of', '--output_file', type=str, required=True)\n",
    "#args = parser.parse_args(sys.argv[1:])\n",
    "\n",
    "oncoKB_file = \"data/20Q2/raw/oncoKB_list.tsv\"\n",
    "sample_file = \"data/20Q2/raw/sample_info.csv\"\n",
    "maf_file = \"data/20Q2/raw/mutations.csv\"\n",
    "output_file = \"data/20Q2/features/test_mutations_oncokb.csv\"\n",
    "\n",
    "# Load the sample and gene file\n",
    "'''\n",
    "with open(args.sample_file, 'r') as IN:\n",
    "    arrs = [ l.rstrip('\\n').split('\\t') for l in IN if not l.startswith('#') ]\n",
    "    samples = [ arr[1] for arr in arrs ]\n",
    "    indices = [ int(arr[0]) for arr in arrs ]\n",
    "    sample_index = dict(zip(samples, indices))\n",
    "    sample_set = set(samples)\n",
    "\n",
    "with open(args.gene_file, 'r') as IN:\n",
    "    arrs = [ l.rstrip('\\n').split('\\t') for l in IN if not l.startswith('#') ]\n",
    "    genes = [ arr[1] for arr in arrs ]\n",
    "    indices = [ int(arr[0]) for arr in arrs ]\n",
    "    gene_index = dict(zip(genes, indices))\n",
    "    gene_set = set(genes)\n",
    "\n",
    "print('- Loaded list of %s samples and %s genes' % (len(samples), len(genes)))\n",
    "print(\"123\")\n",
    "'''\n",
    "\n"
   ]
  },
  {
   "cell_type": "code",
   "execution_count": 2,
   "metadata": {},
   "outputs": [
    {
     "output_type": "stream",
     "name": "stdout",
     "text": "/n/fs/ragr-research/projects/sd\n"
    }
   ],
   "source": [
    "cwd = os.getcwd()\n",
    "print(cwd)"
   ]
  },
  {
   "cell_type": "code",
   "execution_count": 4,
   "metadata": {},
   "outputs": [
    {
     "ename": "FileNotFoundError",
     "evalue": "[Errno 2] No such file or directory: 'data/20Q2/raw/oncoKB_list.tsv'",
     "output_type": "error",
     "traceback": [
      "\u001b[0;31m---------------------------------------------------------------------------\u001b[0m",
      "\u001b[0;31mFileNotFoundError\u001b[0m                         Traceback (most recent call last)",
      "\u001b[0;32m<ipython-input-4-f6ab8b2fa043>\u001b[0m in \u001b[0;36m<module>\u001b[0;34m\u001b[0m\n\u001b[1;32m      1\u001b[0m \u001b[0;31m# Load the processed oncoKB annotations\u001b[0m\u001b[0;34m\u001b[0m\u001b[0;34m\u001b[0m\u001b[0;34m\u001b[0m\u001b[0m\n\u001b[0;32m----> 2\u001b[0;31m \u001b[0;32mwith\u001b[0m \u001b[0mopen\u001b[0m\u001b[0;34m(\u001b[0m\u001b[0moncoKB_file\u001b[0m\u001b[0;34m,\u001b[0m \u001b[0;34m'r'\u001b[0m\u001b[0;34m)\u001b[0m \u001b[0;32mas\u001b[0m \u001b[0mIN\u001b[0m\u001b[0;34m:\u001b[0m\u001b[0;34m\u001b[0m\u001b[0;34m\u001b[0m\u001b[0m\n\u001b[0m\u001b[1;32m      3\u001b[0m     \u001b[0marrs\u001b[0m \u001b[0;34m=\u001b[0m \u001b[0;34m[\u001b[0m \u001b[0ml\u001b[0m\u001b[0;34m.\u001b[0m\u001b[0mrstrip\u001b[0m\u001b[0;34m(\u001b[0m\u001b[0;34m'\\n'\u001b[0m\u001b[0;34m)\u001b[0m\u001b[0;34m.\u001b[0m\u001b[0msplit\u001b[0m\u001b[0;34m(\u001b[0m\u001b[0;34m'\\t'\u001b[0m\u001b[0;34m)\u001b[0m \u001b[0;32mfor\u001b[0m \u001b[0ml\u001b[0m \u001b[0;32min\u001b[0m \u001b[0mIN\u001b[0m \u001b[0;32mif\u001b[0m \u001b[0;32mnot\u001b[0m \u001b[0ml\u001b[0m\u001b[0;34m.\u001b[0m\u001b[0mstartswith\u001b[0m\u001b[0;34m(\u001b[0m\u001b[0;34m'Gene'\u001b[0m\u001b[0;34m)\u001b[0m \u001b[0;34m]\u001b[0m\u001b[0;34m\u001b[0m\u001b[0;34m\u001b[0m\u001b[0m\n\u001b[1;32m      4\u001b[0m     \u001b[0mgenes\u001b[0m \u001b[0;34m=\u001b[0m \u001b[0;34m[\u001b[0m \u001b[0marr\u001b[0m\u001b[0;34m[\u001b[0m\u001b[0;36m0\u001b[0m\u001b[0;34m]\u001b[0m \u001b[0;32mfor\u001b[0m \u001b[0marr\u001b[0m \u001b[0;32min\u001b[0m \u001b[0marrs\u001b[0m\u001b[0;34m[\u001b[0m\u001b[0;36m0\u001b[0m\u001b[0;34m:\u001b[0m\u001b[0;34m]\u001b[0m \u001b[0;34m]\u001b[0m\u001b[0;34m\u001b[0m\u001b[0;34m\u001b[0m\u001b[0m\n\u001b[1;32m      5\u001b[0m     \u001b[0mAAs\u001b[0m \u001b[0;34m=\u001b[0m \u001b[0;34m[\u001b[0m \u001b[0mset\u001b[0m\u001b[0;34m(\u001b[0m\u001b[0marr\u001b[0m\u001b[0;34m[\u001b[0m\u001b[0;36m1\u001b[0m\u001b[0;34m]\u001b[0m\u001b[0;34m.\u001b[0m\u001b[0msplit\u001b[0m\u001b[0;34m(\u001b[0m\u001b[0;34m','\u001b[0m\u001b[0;34m)\u001b[0m\u001b[0;34m)\u001b[0m \u001b[0;32mfor\u001b[0m \u001b[0marr\u001b[0m \u001b[0;32min\u001b[0m \u001b[0marrs\u001b[0m\u001b[0;34m[\u001b[0m\u001b[0;36m0\u001b[0m\u001b[0;34m:\u001b[0m\u001b[0;34m]\u001b[0m \u001b[0;34m]\u001b[0m\u001b[0;34m\u001b[0m\u001b[0;34m\u001b[0m\u001b[0m\n",
      "\u001b[0;31mFileNotFoundError\u001b[0m: [Errno 2] No such file or directory: 'data/20Q2/raw/oncoKB_list.tsv'"
     ]
    }
   ],
   "source": [
    "# Load the processed oncoKB annotations\n",
    "with open(oncoKB_file, 'r') as IN:\n",
    "    arrs = [ l.rstrip('\\n').split('\\t') for l in IN if not l.startswith('Gene') ]\n",
    "    genes = [ arr[0] for arr in arrs[0:] ]\n",
    "    AAs = [ set(arr[1].split(',')) for arr in arrs[0:] ]\n",
    "    geneclass = [ arr[2] for arr in arrs[0:] ]\n",
    "    oncoKB_AAs = dict(zip(genes,AAs))\n",
    "    oncoKB_geneclass = dict(zip(genes,geneclass))\n",
    "    oncoKB_gene_set = set(genes)\n",
    "\n",
    "print('- Loaded OncoKB annotations of %s genes' % (len(genes)))\n"
   ]
  },
  {
   "cell_type": "code",
   "execution_count": 5,
   "metadata": {},
   "outputs": [
    {
     "ename": "FileNotFoundError",
     "evalue": "[Errno 2] No such file or directory: 'data/20Q2/raw/mutations.csv'",
     "output_type": "error",
     "traceback": [
      "\u001b[0;31m---------------------------------------------------------------------------\u001b[0m",
      "\u001b[0;31mFileNotFoundError\u001b[0m                         Traceback (most recent call last)",
      "\u001b[0;32m<ipython-input-5-378d2ede7d10>\u001b[0m in \u001b[0;36m<module>\u001b[0;34m\u001b[0m\n\u001b[1;32m      1\u001b[0m \u001b[0;31m# Load the MAF\u001b[0m\u001b[0;34m\u001b[0m\u001b[0;34m\u001b[0m\u001b[0;34m\u001b[0m\u001b[0m\n\u001b[0;32m----> 2\u001b[0;31m \u001b[0;32mwith\u001b[0m \u001b[0mopen\u001b[0m\u001b[0;34m(\u001b[0m\u001b[0mmaf_file\u001b[0m\u001b[0;34m,\u001b[0m \u001b[0;34m'r'\u001b[0m\u001b[0;34m)\u001b[0m \u001b[0;32mas\u001b[0m \u001b[0mIN\u001b[0m\u001b[0;34m:\u001b[0m\u001b[0;34m\u001b[0m\u001b[0;34m\u001b[0m\u001b[0m\n\u001b[0m\u001b[1;32m      3\u001b[0m     \u001b[0;31m#arrs = [ l.rstrip('\\n').split('\\t') for l in IN if not l.startswith('Gene') ]\u001b[0m\u001b[0;34m\u001b[0m\u001b[0;34m\u001b[0m\u001b[0;34m\u001b[0m\u001b[0m\n\u001b[1;32m      4\u001b[0m     \u001b[0mfl\u001b[0m \u001b[0;34m=\u001b[0m \u001b[0mIN\u001b[0m\u001b[0;34m.\u001b[0m\u001b[0mreadline\u001b[0m\u001b[0;34m(\u001b[0m\u001b[0;34m)\u001b[0m\u001b[0;34m\u001b[0m\u001b[0;34m\u001b[0m\u001b[0m\n\u001b[1;32m      5\u001b[0m     \u001b[0mheader\u001b[0m \u001b[0;34m=\u001b[0m \u001b[0mfl\u001b[0m\u001b[0;34m.\u001b[0m\u001b[0mrstrip\u001b[0m\u001b[0;34m(\u001b[0m\u001b[0;34m\"\\n\"\u001b[0m\u001b[0;34m)\u001b[0m\u001b[0;34m.\u001b[0m\u001b[0msplit\u001b[0m\u001b[0;34m(\u001b[0m\u001b[0;34m\"\\t\"\u001b[0m\u001b[0;34m)\u001b[0m\u001b[0;34m\u001b[0m\u001b[0;34m\u001b[0m\u001b[0m\n",
      "\u001b[0;31mFileNotFoundError\u001b[0m: [Errno 2] No such file or directory: 'data/20Q2/raw/mutations.csv'"
     ]
    }
   ],
   "source": [
    "# Load the MAF\n",
    "with open(maf_file, 'r') as IN:\n",
    "    #arrs = [ l.rstrip('\\n').split('\\t') for l in IN if not l.startswith('Gene') ]\n",
    "    fl = IN.readline()\n",
    "    header = fl.rstrip(\"\\n\").split(\"\\t\")\n",
    "print(header)\n",
    "\n",
    "\n",
    "\n",
    "print(maf_file)\n",
    "maf = pd.read_table(maf_file, sep='\\t', usecols=maf_col_dtype.keys(),dtype=maf_col_dtype)#,\n",
    "                    #na_filter = False)\n",
    "maf.fillna('NA',inplace=True)\n",
    "maf[SAMPLE] = [ '-'.join(s.split('-')[:3]) for s in maf[SAMPLE] ]\n",
    "#maf[VAR_AA] = [ aa.split('/')[1] if '/' in aa else aa for aa in maf[AMINO_ACIDS] ]\n",
    "maf[AA_CHANGE] = maf.Protein_Change\n",
    "maf[AA_CHANGE] = [ pc[2:] for pc in maf[AA_CHANGE] ]\n",
    "#maf[AA_CHANGE] = [ pc[2:] for pc in maf[PROTEIN_CHANGE] if isinstance(pc,str) ]\n",
    "maf[VAR_AN2] = \"\"\n",
    "print('- Loaded a MAF with %s mutations in %s samples' % (len(maf), len(set(maf[SAMPLE]))))"
   ]
  },
  {
   "cell_type": "code",
   "execution_count": 6,
   "metadata": {},
   "outputs": [
    {
     "ename": "NameError",
     "evalue": "name 'maf' is not defined",
     "output_type": "error",
     "traceback": [
      "\u001b[0;31m---------------------------------------------------------------------------\u001b[0m",
      "\u001b[0;31mNameError\u001b[0m                                 Traceback (most recent call last)",
      "\u001b[0;32m<ipython-input-6-250de3544501>\u001b[0m in \u001b[0;36m<module>\u001b[0;34m\u001b[0m\n\u001b[1;32m      1\u001b[0m \u001b[0;31m# Filter the MAF\u001b[0m\u001b[0;34m\u001b[0m\u001b[0;34m\u001b[0m\u001b[0;34m\u001b[0m\u001b[0m\n\u001b[0;32m----> 2\u001b[0;31m maf = maf.loc[#maf[SAMPLE].isin(sample_set) & \\\n\u001b[0m\u001b[1;32m      3\u001b[0m               \u001b[0;31m#maf[GENE].isin(gene_set & oncoKB_gene_set) & \\\u001b[0m\u001b[0;34m\u001b[0m\u001b[0;34m\u001b[0m\u001b[0;34m\u001b[0m\u001b[0m\n\u001b[1;32m      4\u001b[0m               \u001b[0mmaf\u001b[0m\u001b[0;34m[\u001b[0m\u001b[0mGENE\u001b[0m\u001b[0;34m]\u001b[0m\u001b[0;34m.\u001b[0m\u001b[0misin\u001b[0m\u001b[0;34m(\u001b[0m\u001b[0moncoKB_gene_set\u001b[0m\u001b[0;34m)\u001b[0m \u001b[0;34m&\u001b[0m\u001b[0;31m \u001b[0m\u001b[0;31m\\\u001b[0m\u001b[0;34m\u001b[0m\u001b[0;34m\u001b[0m\u001b[0m\n\u001b[1;32m      5\u001b[0m               \u001b[0;31m#maf[VAR_TY].isin({'SNP'}) & \\\u001b[0m\u001b[0;34m\u001b[0m\u001b[0;34m\u001b[0m\u001b[0;34m\u001b[0m\u001b[0m\n",
      "\u001b[0;31mNameError\u001b[0m: name 'maf' is not defined"
     ]
    }
   ],
   "source": [
    "# Filter the MAF\n",
    "maf = maf.loc[#maf[SAMPLE].isin(sample_set) & \\\n",
    "              #maf[GENE].isin(gene_set & oncoKB_gene_set) & \\\n",
    "              maf[GENE].isin(oncoKB_gene_set) & \\\n",
    "              #maf[VAR_TY].isin({'SNP'}) & \\\n",
    "              maf[VAR_CLASS].isin(ACTIVATING_CLASSES | INACTIVATING_CLASSES)]\n",
    "#maf['Gene_Index'] = [ gene_index[g] for g in maf[GENE] ]\n",
    "#maf['Sample_Index'] = [ sample_index[s] for s in maf[SAMPLE] ]\n",
    "print('- Filtered to %s mutations in %s samples' % (len(maf), len(set(maf[SAMPLE]))))\n",
    "\n",
    "\n"
   ]
  },
  {
   "cell_type": "code",
   "execution_count": 7,
   "metadata": {},
   "outputs": [
    {
     "ename": "NameError",
     "evalue": "name 'maf' is not defined",
     "output_type": "error",
     "traceback": [
      "\u001b[0;31m---------------------------------------------------------------------------\u001b[0m",
      "\u001b[0;31mNameError\u001b[0m                                 Traceback (most recent call last)",
      "\u001b[0;32m<ipython-input-7-deb359d3edef>\u001b[0m in \u001b[0;36m<module>\u001b[0;34m\u001b[0m\n\u001b[1;32m      1\u001b[0m \u001b[0;31m# Add corresponding OncoKB annotations for each gene\u001b[0m\u001b[0;34m\u001b[0m\u001b[0;34m\u001b[0m\u001b[0;34m\u001b[0m\u001b[0m\n\u001b[0;32m----> 2\u001b[0;31m \u001b[0mmaf\u001b[0m\u001b[0;34m[\u001b[0m\u001b[0;34m'AAs'\u001b[0m\u001b[0;34m]\u001b[0m \u001b[0;34m=\u001b[0m \u001b[0mmaf\u001b[0m\u001b[0;34m.\u001b[0m\u001b[0mHugo_Symbol\u001b[0m\u001b[0;34m.\u001b[0m\u001b[0mmap\u001b[0m\u001b[0;34m(\u001b[0m\u001b[0moncoKB_AAs\u001b[0m\u001b[0;34m)\u001b[0m\u001b[0;34m\u001b[0m\u001b[0;34m\u001b[0m\u001b[0m\n\u001b[0m\u001b[1;32m      3\u001b[0m \u001b[0mmaf\u001b[0m\u001b[0;34m[\u001b[0m\u001b[0;34m'AAisinONCOKB'\u001b[0m\u001b[0;34m]\u001b[0m \u001b[0;34m=\u001b[0m \u001b[0mmaf\u001b[0m\u001b[0;34m.\u001b[0m\u001b[0mapply\u001b[0m\u001b[0;34m(\u001b[0m\u001b[0;32mlambda\u001b[0m \u001b[0mr\u001b[0m\u001b[0;34m:\u001b[0m \u001b[0mr\u001b[0m\u001b[0;34m.\u001b[0m\u001b[0mAA_Change\u001b[0m \u001b[0;32min\u001b[0m \u001b[0mr\u001b[0m\u001b[0;34m.\u001b[0m\u001b[0mAAs\u001b[0m\u001b[0;34m,\u001b[0m \u001b[0maxis\u001b[0m\u001b[0;34m=\u001b[0m\u001b[0;36m1\u001b[0m\u001b[0;34m)\u001b[0m\u001b[0;34m\u001b[0m\u001b[0;34m\u001b[0m\u001b[0m\n\u001b[1;32m      4\u001b[0m \u001b[0mmaf\u001b[0m\u001b[0;34m[\u001b[0m\u001b[0;34m'geneclass'\u001b[0m\u001b[0;34m]\u001b[0m \u001b[0;34m=\u001b[0m \u001b[0mmaf\u001b[0m\u001b[0;34m.\u001b[0m\u001b[0mHugo_Symbol\u001b[0m\u001b[0;34m.\u001b[0m\u001b[0mmap\u001b[0m\u001b[0;34m(\u001b[0m\u001b[0moncoKB_geneclass\u001b[0m\u001b[0;34m)\u001b[0m\u001b[0;34m\u001b[0m\u001b[0;34m\u001b[0m\u001b[0m\n\u001b[1;32m      5\u001b[0m \u001b[0;34m\u001b[0m\u001b[0m\n",
      "\u001b[0;31mNameError\u001b[0m: name 'maf' is not defined"
     ]
    }
   ],
   "source": [
    "# Add corresponding OncoKB annotations for each gene\n",
    "maf['AAs'] = maf.Hugo_Symbol.map(oncoKB_AAs)\n",
    "maf['AAisinONCOKB'] = maf.apply(lambda r: r.AA_Change in r.AAs, axis=1)\n",
    "maf['geneclass'] = maf.Hugo_Symbol.map(oncoKB_geneclass)\n",
    "\n"
   ]
  },
  {
   "cell_type": "code",
   "execution_count": 8,
   "metadata": {},
   "outputs": [
    {
     "ename": "NameError",
     "evalue": "name 'maf' is not defined",
     "output_type": "error",
     "traceback": [
      "\u001b[0;31m---------------------------------------------------------------------------\u001b[0m",
      "\u001b[0;31mNameError\u001b[0m                                 Traceback (most recent call last)",
      "\u001b[0;32m<ipython-input-8-89ab27c1dce3>\u001b[0m in \u001b[0;36m<module>\u001b[0;34m\u001b[0m\n\u001b[1;32m      1\u001b[0m \u001b[0;31m# Classify Activating | Inactivating | Other\u001b[0m\u001b[0;34m\u001b[0m\u001b[0;34m\u001b[0m\u001b[0;34m\u001b[0m\u001b[0m\n\u001b[0;32m----> 2\u001b[0;31m conditions = [(maf['geneclass'] == 'tumor_suppressor') & ((maf[VAR_CLASS].isin(INACTIVATING_CLASSES)) | maf['AAisinONCOKB']), # tsg: matching var_class or AA change\n\u001b[0m\u001b[1;32m      3\u001b[0m         (maf['geneclass'] == 'oncogene') & (maf[VAR_CLASS].isin(ACTIVATING_CLASSES)) & maf['AAisinONCOKB']] # oncogene: matching var_class and AA change\n\u001b[1;32m      4\u001b[0m \u001b[0;34m\u001b[0m\u001b[0m\n\u001b[1;32m      5\u001b[0m \u001b[0mchoices\u001b[0m \u001b[0;34m=\u001b[0m \u001b[0;34m[\u001b[0m\u001b[0;34m'inactivating'\u001b[0m\u001b[0;34m,\u001b[0m \u001b[0;34m'activating'\u001b[0m\u001b[0;34m]\u001b[0m\u001b[0;34m\u001b[0m\u001b[0;34m\u001b[0m\u001b[0m\n",
      "\u001b[0;31mNameError\u001b[0m: name 'maf' is not defined"
     ]
    }
   ],
   "source": [
    "# Classify Activating | Inactivating | Other\n",
    "conditions = [(maf['geneclass'] == 'tumor_suppressor') & ((maf[VAR_CLASS].isin(INACTIVATING_CLASSES)) | maf['AAisinONCOKB']), # tsg: matching var_class or AA change\n",
    "        (maf['geneclass'] == 'oncogene') & (maf[VAR_CLASS].isin(ACTIVATING_CLASSES)) & maf['AAisinONCOKB']] # oncogene: matching var_class and AA change\n",
    "\n",
    "choices = ['inactivating', 'activating']\n",
    "maf[VAR_AN2] = np.select(conditions, choices, default='other')\n",
    "maf['Alteration'] = [ g+\"_\"+VA[0].upper()+\"_MUT\" for (g,VA) in zip(maf[GENE],maf[VAR_AN2])]\n",
    "\n"
   ]
  },
  {
   "cell_type": "code",
   "execution_count": 9,
   "metadata": {},
   "outputs": [
    {
     "ename": "NameError",
     "evalue": "name 'maf' is not defined",
     "output_type": "error",
     "traceback": [
      "\u001b[0;31m---------------------------------------------------------------------------\u001b[0m",
      "\u001b[0;31mNameError\u001b[0m                                 Traceback (most recent call last)",
      "\u001b[0;32m<ipython-input-9-91ccb828b7a6>\u001b[0m in \u001b[0;36m<module>\u001b[0;34m\u001b[0m\n\u001b[1;32m      1\u001b[0m \u001b[0mmut_to_sample\u001b[0m \u001b[0;34m=\u001b[0m \u001b[0mdict\u001b[0m\u001b[0;34m(\u001b[0m\u001b[0;34m)\u001b[0m\u001b[0;34m\u001b[0m\u001b[0;34m\u001b[0m\u001b[0m\n\u001b[0;32m----> 2\u001b[0;31m \u001b[0;32mfor\u001b[0m \u001b[0;34m(\u001b[0m\u001b[0mg\u001b[0m\u001b[0;34m,\u001b[0m\u001b[0ms\u001b[0m\u001b[0;34m)\u001b[0m \u001b[0;32min\u001b[0m \u001b[0mzip\u001b[0m\u001b[0;34m(\u001b[0m\u001b[0mmaf\u001b[0m\u001b[0;34m[\u001b[0m\u001b[0;34m'Alteration'\u001b[0m\u001b[0;34m]\u001b[0m\u001b[0;34m,\u001b[0m\u001b[0mmaf\u001b[0m\u001b[0;34m[\u001b[0m\u001b[0mSAMPLE\u001b[0m\u001b[0;34m]\u001b[0m\u001b[0;34m)\u001b[0m\u001b[0;34m:\u001b[0m\u001b[0;34m\u001b[0m\u001b[0;34m\u001b[0m\u001b[0m\n\u001b[0m\u001b[1;32m      3\u001b[0m     \u001b[0;32mif\u001b[0m \u001b[0mg\u001b[0m \u001b[0;32mnot\u001b[0m \u001b[0;32min\u001b[0m \u001b[0mmut_to_sample\u001b[0m\u001b[0;34m:\u001b[0m\u001b[0;34m\u001b[0m\u001b[0;34m\u001b[0m\u001b[0m\n\u001b[1;32m      4\u001b[0m         \u001b[0mmut_to_sample\u001b[0m\u001b[0;34m[\u001b[0m\u001b[0mg\u001b[0m\u001b[0;34m]\u001b[0m \u001b[0;34m=\u001b[0m \u001b[0;34m[\u001b[0m\u001b[0ms\u001b[0m\u001b[0;34m]\u001b[0m\u001b[0;34m\u001b[0m\u001b[0;34m\u001b[0m\u001b[0m\n\u001b[1;32m      5\u001b[0m     \u001b[0;32melse\u001b[0m\u001b[0;34m:\u001b[0m\u001b[0;34m\u001b[0m\u001b[0;34m\u001b[0m\u001b[0m\n",
      "\u001b[0;31mNameError\u001b[0m: name 'maf' is not defined"
     ]
    }
   ],
   "source": [
    "mut_to_sample = dict()\n",
    "for (g,s) in zip(maf['Alteration'],maf[SAMPLE]):\n",
    "    if g not in mut_to_sample:\n",
    "        mut_to_sample[g] = [s]\n",
    "    else:\n",
    "        if s not in mut_to_sample[g]:\n",
    "            mut_to_sample[g].append(s)\n",
    "\n",
    "toexclude = []\n",
    "for k in mut_to_sample: \n",
    "    mut_to_sample[k] = len(mut_to_sample[k])\n",
    "    if (mut_to_sample[k] < 10) and (k.endswith(\"O_MUT\")):\n",
    "        toexclude.append(k)\n",
    "print(toexclude)"
   ]
  },
  {
   "cell_type": "code",
   "execution_count": 10,
   "metadata": {},
   "outputs": [
    {
     "ename": "NameError",
     "evalue": "name 'maf' is not defined",
     "output_type": "error",
     "traceback": [
      "\u001b[0;31m---------------------------------------------------------------------------\u001b[0m",
      "\u001b[0;31mNameError\u001b[0m                                 Traceback (most recent call last)",
      "\u001b[0;32m<ipython-input-10-b1248b07822e>\u001b[0m in \u001b[0;36m<module>\u001b[0;34m\u001b[0m\n\u001b[0;32m----> 1\u001b[0;31m \u001b[0mmaf2\u001b[0m \u001b[0;34m=\u001b[0m \u001b[0mmaf\u001b[0m\u001b[0;34m[\u001b[0m\u001b[0;34m~\u001b[0m\u001b[0mmaf\u001b[0m\u001b[0;34m[\u001b[0m\u001b[0;34m'Alteration'\u001b[0m\u001b[0;34m]\u001b[0m\u001b[0;34m.\u001b[0m\u001b[0misin\u001b[0m\u001b[0;34m(\u001b[0m\u001b[0mtoexclude\u001b[0m\u001b[0;34m)\u001b[0m\u001b[0;34m]\u001b[0m\u001b[0;34m\u001b[0m\u001b[0;34m\u001b[0m\u001b[0m\n\u001b[0m",
      "\u001b[0;31mNameError\u001b[0m: name 'maf' is not defined"
     ]
    }
   ],
   "source": [
    "maf2 = maf[~maf['Alteration'].isin(toexclude)]"
   ]
  },
  {
   "cell_type": "code",
   "execution_count": 11,
   "metadata": {},
   "outputs": [
    {
     "ename": "NameError",
     "evalue": "name 'maf2' is not defined",
     "output_type": "error",
     "traceback": [
      "\u001b[0;31m---------------------------------------------------------------------------\u001b[0m",
      "\u001b[0;31mNameError\u001b[0m                                 Traceback (most recent call last)",
      "\u001b[0;32m<ipython-input-11-49b576168fa3>\u001b[0m in \u001b[0;36m<module>\u001b[0;34m\u001b[0m\n\u001b[1;32m      1\u001b[0m \u001b[0;31m# Clean up dataframe\u001b[0m\u001b[0;34m\u001b[0m\u001b[0;34m\u001b[0m\u001b[0;34m\u001b[0m\u001b[0m\n\u001b[0;32m----> 2\u001b[0;31m \u001b[0mprint\u001b[0m\u001b[0;34m(\u001b[0m\u001b[0mlist\u001b[0m\u001b[0;34m(\u001b[0m\u001b[0mmaf2\u001b[0m\u001b[0;34m.\u001b[0m\u001b[0mcolumns\u001b[0m\u001b[0;34m)\u001b[0m \u001b[0;34m)\u001b[0m\u001b[0;34m\u001b[0m\u001b[0;34m\u001b[0m\u001b[0m\n\u001b[0m\u001b[1;32m      3\u001b[0m \u001b[0mmaf3\u001b[0m \u001b[0;34m=\u001b[0m \u001b[0mmaf2\u001b[0m\u001b[0;34m[\u001b[0m\u001b[0;34m[\u001b[0m\u001b[0mGENE\u001b[0m\u001b[0;34m,\u001b[0m\u001b[0mSAMPLE\u001b[0m\u001b[0;34m,\u001b[0m\u001b[0mVAR_TY\u001b[0m\u001b[0;34m,\u001b[0m\u001b[0mVAR_CLASS\u001b[0m\u001b[0;34m,\u001b[0m\u001b[0mPROTEIN_CHANGE\u001b[0m\u001b[0;34m,\u001b[0m\u001b[0mAA_CHANGE\u001b[0m\u001b[0;34m,\u001b[0m\u001b[0mVAR_AN2\u001b[0m\u001b[0;34m,\u001b[0m\u001b[0;34m\"Alteration\"\u001b[0m\u001b[0;34m]\u001b[0m\u001b[0;34m]\u001b[0m\u001b[0;34m\u001b[0m\u001b[0;34m\u001b[0m\u001b[0m\n\u001b[1;32m      4\u001b[0m \u001b[0mprint\u001b[0m\u001b[0;34m(\u001b[0m\u001b[0mlist\u001b[0m\u001b[0;34m(\u001b[0m\u001b[0mmaf3\u001b[0m\u001b[0;34m.\u001b[0m\u001b[0mcolumns\u001b[0m\u001b[0;34m)\u001b[0m \u001b[0;34m)\u001b[0m\u001b[0;34m\u001b[0m\u001b[0;34m\u001b[0m\u001b[0m\n\u001b[1;32m      5\u001b[0m \u001b[0mmaf3\u001b[0m\u001b[0;34m.\u001b[0m\u001b[0mto_csv\u001b[0m\u001b[0;34m(\u001b[0m\u001b[0moutput_file\u001b[0m\u001b[0;34m,\u001b[0m \u001b[0msep\u001b[0m\u001b[0;34m=\u001b[0m\u001b[0;34m','\u001b[0m\u001b[0;34m,\u001b[0m \u001b[0mindex\u001b[0m\u001b[0;34m=\u001b[0m\u001b[0;36m0\u001b[0m\u001b[0;34m)\u001b[0m\u001b[0;34m\u001b[0m\u001b[0;34m\u001b[0m\u001b[0m\n",
      "\u001b[0;31mNameError\u001b[0m: name 'maf2' is not defined"
     ]
    }
   ],
   "source": [
    "# Clean up dataframe\n",
    "print(list(maf2.columns) )\n",
    "maf3 = maf2[[GENE,SAMPLE,VAR_TY,VAR_CLASS,PROTEIN_CHANGE,AA_CHANGE,VAR_AN2,\"Alteration\"]]\n",
    "print(list(maf3.columns) )\n",
    "maf3.to_csv(output_file, sep=',', index=0)"
   ]
  },
  {
   "cell_type": "code",
   "execution_count": null,
   "metadata": {},
   "outputs": [],
   "source": []
  },
  {
   "cell_type": "code",
   "execution_count": null,
   "metadata": {},
   "outputs": [],
   "source": []
  }
 ],
 "metadata": {
  "kernelspec": {
   "display_name": "Python 3",
   "language": "python",
   "name": "python3"
  },
  "language_info": {
   "codemirror_mode": {
    "name": "ipython",
    "version": 3
   },
   "file_extension": ".py",
   "mimetype": "text/x-python",
   "name": "python",
   "nbconvert_exporter": "python",
   "pygments_lexer": "ipython3",
   "version": "3.6.10-final"
  }
 },
 "nbformat": 4,
 "nbformat_minor": 2
}